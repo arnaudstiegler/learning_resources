{
 "cells": [
  {
   "cell_type": "code",
   "execution_count": 11,
   "id": "e2ec5aad-f954-46f3-ae72-34a71c99fe96",
   "metadata": {},
   "outputs": [
    {
     "name": "stdout",
     "output_type": "stream",
     "text": [
      "(0, 3)\n",
      "1\n",
      "(0, 5)\n",
      "(3, 5)\n",
      "(3, 3)\n",
      "3\n",
      "(0, 4)\n",
      "(3, 4)\n",
      "-1\n",
      "-1\n"
     ]
    }
   ],
   "source": [
    "def binary_search(items, val):\n",
    "    indices = (0, len(items)-1)\n",
    "    while indices[1] >= indices[0]:\n",
    "        print(indices)\n",
    "        middle_index = indices[0] + (indices[1] - indices[0]) // 2\n",
    "        if items[middle_index] == val:\n",
    "            return middle_index\n",
    "        elif items[middle_index] > val:\n",
    "            indices = (indices[0], middle_index-1)\n",
    "        else:\n",
    "            indices = (middle_index + 1, indices[1])\n",
    "    return -1\n",
    "\n",
    "# Test case 1\n",
    "print(binary_search([1,2,3,4], 2))\n",
    "# Test case 2\n",
    "print(binary_search([2,3,5,6,7,8], 6))\n",
    "# Test Case 3\n",
    "print(binary_search([2,3,5,7,8], 6))\n",
    "# Test case 4\n",
    "print(binary_search([], 7))"
   ]
  },
  {
   "cell_type": "code",
   "execution_count": null,
   "id": "6729cb4d-695a-4f07-a121-43474c4d8b29",
   "metadata": {},
   "outputs": [],
   "source": []
  }
 ],
 "metadata": {
  "kernelspec": {
   "display_name": "Python 3 (ipykernel)",
   "language": "python",
   "name": "python3"
  },
  "language_info": {
   "codemirror_mode": {
    "name": "ipython",
    "version": 3
   },
   "file_extension": ".py",
   "mimetype": "text/x-python",
   "name": "python",
   "nbconvert_exporter": "python",
   "pygments_lexer": "ipython3",
   "version": "3.10.12"
  }
 },
 "nbformat": 4,
 "nbformat_minor": 5
}
